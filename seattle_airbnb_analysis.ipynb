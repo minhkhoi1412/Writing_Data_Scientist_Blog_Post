{
 "cells": [
  {
   "cell_type": "code",
   "execution_count": 1,
   "metadata": {},
   "outputs": [],
   "source": [
    "import numpy as np\n",
    "import pandas as pd\n",
    "import matplotlib.pyplot as plt\n",
    "import seaborn as sns\n",
    "from collections import defaultdict\n",
    "from sklearn.linear_model import LinearRegression\n",
    "from sklearn.model_selection import train_test_split\n",
    "from sklearn.metrics import r2_score\n",
    "import ast\n",
    "import re\n",
    "%matplotlib inline\n",
    "\n",
    "pd.set_option('display.max_rows', 1000) # Increase maximum rows display in the cell output to 1000 rows"
   ]
  },
  {
   "cell_type": "code",
   "execution_count": 2,
   "metadata": {},
   "outputs": [
    {
     "name": "stdout",
     "output_type": "stream",
     "text": [
      "Shape of dataframe:  (3818, 92)\n"
     ]
    },
    {
     "data": {
      "text/html": [
       "<div>\n",
       "<style scoped>\n",
       "    .dataframe tbody tr th:only-of-type {\n",
       "        vertical-align: middle;\n",
       "    }\n",
       "\n",
       "    .dataframe tbody tr th {\n",
       "        vertical-align: top;\n",
       "    }\n",
       "\n",
       "    .dataframe thead th {\n",
       "        text-align: right;\n",
       "    }\n",
       "</style>\n",
       "<table border=\"1\" class=\"dataframe\">\n",
       "  <thead>\n",
       "    <tr style=\"text-align: right;\">\n",
       "      <th></th>\n",
       "      <th>id</th>\n",
       "      <th>listing_url</th>\n",
       "      <th>scrape_id</th>\n",
       "      <th>last_scraped</th>\n",
       "      <th>name</th>\n",
       "      <th>summary</th>\n",
       "      <th>space</th>\n",
       "      <th>description</th>\n",
       "      <th>experiences_offered</th>\n",
       "      <th>neighborhood_overview</th>\n",
       "      <th>...</th>\n",
       "      <th>review_scores_value</th>\n",
       "      <th>requires_license</th>\n",
       "      <th>license</th>\n",
       "      <th>jurisdiction_names</th>\n",
       "      <th>instant_bookable</th>\n",
       "      <th>cancellation_policy</th>\n",
       "      <th>require_guest_profile_picture</th>\n",
       "      <th>require_guest_phone_verification</th>\n",
       "      <th>calculated_host_listings_count</th>\n",
       "      <th>reviews_per_month</th>\n",
       "    </tr>\n",
       "  </thead>\n",
       "  <tbody>\n",
       "    <tr>\n",
       "      <th>0</th>\n",
       "      <td>241032</td>\n",
       "      <td>https://www.airbnb.com/rooms/241032</td>\n",
       "      <td>20160104002432</td>\n",
       "      <td>2016-01-04</td>\n",
       "      <td>Stylish Queen Anne Apartment</td>\n",
       "      <td>NaN</td>\n",
       "      <td>Make your self at home in this charming one-be...</td>\n",
       "      <td>Make your self at home in this charming one-be...</td>\n",
       "      <td>none</td>\n",
       "      <td>NaN</td>\n",
       "      <td>...</td>\n",
       "      <td>10.0</td>\n",
       "      <td>f</td>\n",
       "      <td>NaN</td>\n",
       "      <td>WASHINGTON</td>\n",
       "      <td>f</td>\n",
       "      <td>moderate</td>\n",
       "      <td>f</td>\n",
       "      <td>f</td>\n",
       "      <td>2</td>\n",
       "      <td>4.07</td>\n",
       "    </tr>\n",
       "    <tr>\n",
       "      <th>1</th>\n",
       "      <td>953595</td>\n",
       "      <td>https://www.airbnb.com/rooms/953595</td>\n",
       "      <td>20160104002432</td>\n",
       "      <td>2016-01-04</td>\n",
       "      <td>Bright &amp; Airy Queen Anne Apartment</td>\n",
       "      <td>Chemically sensitive? We've removed the irrita...</td>\n",
       "      <td>Beautiful, hypoallergenic apartment in an extr...</td>\n",
       "      <td>Chemically sensitive? We've removed the irrita...</td>\n",
       "      <td>none</td>\n",
       "      <td>Queen Anne is a wonderful, truly functional vi...</td>\n",
       "      <td>...</td>\n",
       "      <td>10.0</td>\n",
       "      <td>f</td>\n",
       "      <td>NaN</td>\n",
       "      <td>WASHINGTON</td>\n",
       "      <td>f</td>\n",
       "      <td>strict</td>\n",
       "      <td>t</td>\n",
       "      <td>t</td>\n",
       "      <td>6</td>\n",
       "      <td>1.48</td>\n",
       "    </tr>\n",
       "    <tr>\n",
       "      <th>2</th>\n",
       "      <td>3308979</td>\n",
       "      <td>https://www.airbnb.com/rooms/3308979</td>\n",
       "      <td>20160104002432</td>\n",
       "      <td>2016-01-04</td>\n",
       "      <td>New Modern House-Amazing water view</td>\n",
       "      <td>New modern house built in 2013.  Spectacular s...</td>\n",
       "      <td>Our house is modern, light and fresh with a wa...</td>\n",
       "      <td>New modern house built in 2013.  Spectacular s...</td>\n",
       "      <td>none</td>\n",
       "      <td>Upper Queen Anne is a charming neighborhood fu...</td>\n",
       "      <td>...</td>\n",
       "      <td>10.0</td>\n",
       "      <td>f</td>\n",
       "      <td>NaN</td>\n",
       "      <td>WASHINGTON</td>\n",
       "      <td>f</td>\n",
       "      <td>strict</td>\n",
       "      <td>f</td>\n",
       "      <td>f</td>\n",
       "      <td>2</td>\n",
       "      <td>1.15</td>\n",
       "    </tr>\n",
       "    <tr>\n",
       "      <th>3</th>\n",
       "      <td>7421966</td>\n",
       "      <td>https://www.airbnb.com/rooms/7421966</td>\n",
       "      <td>20160104002432</td>\n",
       "      <td>2016-01-04</td>\n",
       "      <td>Queen Anne Chateau</td>\n",
       "      <td>A charming apartment that sits atop Queen Anne...</td>\n",
       "      <td>NaN</td>\n",
       "      <td>A charming apartment that sits atop Queen Anne...</td>\n",
       "      <td>none</td>\n",
       "      <td>NaN</td>\n",
       "      <td>...</td>\n",
       "      <td>NaN</td>\n",
       "      <td>f</td>\n",
       "      <td>NaN</td>\n",
       "      <td>WASHINGTON</td>\n",
       "      <td>f</td>\n",
       "      <td>flexible</td>\n",
       "      <td>f</td>\n",
       "      <td>f</td>\n",
       "      <td>1</td>\n",
       "      <td>NaN</td>\n",
       "    </tr>\n",
       "    <tr>\n",
       "      <th>4</th>\n",
       "      <td>278830</td>\n",
       "      <td>https://www.airbnb.com/rooms/278830</td>\n",
       "      <td>20160104002432</td>\n",
       "      <td>2016-01-04</td>\n",
       "      <td>Charming craftsman 3 bdm house</td>\n",
       "      <td>Cozy family craftman house in beautiful neighb...</td>\n",
       "      <td>Cozy family craftman house in beautiful neighb...</td>\n",
       "      <td>Cozy family craftman house in beautiful neighb...</td>\n",
       "      <td>none</td>\n",
       "      <td>We are in the beautiful neighborhood of Queen ...</td>\n",
       "      <td>...</td>\n",
       "      <td>9.0</td>\n",
       "      <td>f</td>\n",
       "      <td>NaN</td>\n",
       "      <td>WASHINGTON</td>\n",
       "      <td>f</td>\n",
       "      <td>strict</td>\n",
       "      <td>f</td>\n",
       "      <td>f</td>\n",
       "      <td>1</td>\n",
       "      <td>0.89</td>\n",
       "    </tr>\n",
       "  </tbody>\n",
       "</table>\n",
       "<p>5 rows × 92 columns</p>\n",
       "</div>"
      ],
      "text/plain": [
       "        id                           listing_url       scrape_id last_scraped  \\\n",
       "0   241032   https://www.airbnb.com/rooms/241032  20160104002432   2016-01-04   \n",
       "1   953595   https://www.airbnb.com/rooms/953595  20160104002432   2016-01-04   \n",
       "2  3308979  https://www.airbnb.com/rooms/3308979  20160104002432   2016-01-04   \n",
       "3  7421966  https://www.airbnb.com/rooms/7421966  20160104002432   2016-01-04   \n",
       "4   278830   https://www.airbnb.com/rooms/278830  20160104002432   2016-01-04   \n",
       "\n",
       "                                  name  \\\n",
       "0         Stylish Queen Anne Apartment   \n",
       "1   Bright & Airy Queen Anne Apartment   \n",
       "2  New Modern House-Amazing water view   \n",
       "3                   Queen Anne Chateau   \n",
       "4       Charming craftsman 3 bdm house   \n",
       "\n",
       "                                             summary  \\\n",
       "0                                                NaN   \n",
       "1  Chemically sensitive? We've removed the irrita...   \n",
       "2  New modern house built in 2013.  Spectacular s...   \n",
       "3  A charming apartment that sits atop Queen Anne...   \n",
       "4  Cozy family craftman house in beautiful neighb...   \n",
       "\n",
       "                                               space  \\\n",
       "0  Make your self at home in this charming one-be...   \n",
       "1  Beautiful, hypoallergenic apartment in an extr...   \n",
       "2  Our house is modern, light and fresh with a wa...   \n",
       "3                                                NaN   \n",
       "4  Cozy family craftman house in beautiful neighb...   \n",
       "\n",
       "                                         description experiences_offered  \\\n",
       "0  Make your self at home in this charming one-be...                none   \n",
       "1  Chemically sensitive? We've removed the irrita...                none   \n",
       "2  New modern house built in 2013.  Spectacular s...                none   \n",
       "3  A charming apartment that sits atop Queen Anne...                none   \n",
       "4  Cozy family craftman house in beautiful neighb...                none   \n",
       "\n",
       "                               neighborhood_overview  ... review_scores_value  \\\n",
       "0                                                NaN  ...                10.0   \n",
       "1  Queen Anne is a wonderful, truly functional vi...  ...                10.0   \n",
       "2  Upper Queen Anne is a charming neighborhood fu...  ...                10.0   \n",
       "3                                                NaN  ...                 NaN   \n",
       "4  We are in the beautiful neighborhood of Queen ...  ...                 9.0   \n",
       "\n",
       "  requires_license license jurisdiction_names instant_bookable  \\\n",
       "0                f     NaN         WASHINGTON                f   \n",
       "1                f     NaN         WASHINGTON                f   \n",
       "2                f     NaN         WASHINGTON                f   \n",
       "3                f     NaN         WASHINGTON                f   \n",
       "4                f     NaN         WASHINGTON                f   \n",
       "\n",
       "  cancellation_policy  require_guest_profile_picture  \\\n",
       "0            moderate                              f   \n",
       "1              strict                              t   \n",
       "2              strict                              f   \n",
       "3            flexible                              f   \n",
       "4              strict                              f   \n",
       "\n",
       "  require_guest_phone_verification calculated_host_listings_count  \\\n",
       "0                                f                              2   \n",
       "1                                t                              6   \n",
       "2                                f                              2   \n",
       "3                                f                              1   \n",
       "4                                f                              1   \n",
       "\n",
       "  reviews_per_month  \n",
       "0              4.07  \n",
       "1              1.48  \n",
       "2              1.15  \n",
       "3               NaN  \n",
       "4              0.89  \n",
       "\n",
       "[5 rows x 92 columns]"
      ]
     },
     "execution_count": 2,
     "metadata": {},
     "output_type": "execute_result"
    }
   ],
   "source": [
    "df = pd.read_csv('./dataset/seattle_airbnb/listings.csv')\n",
    "print('Shape of dataframe: ', df.shape)\n",
    "df.head()"
   ]
  },
  {
   "cell_type": "code",
   "execution_count": 3,
   "metadata": {},
   "outputs": [
    {
     "data": {
      "text/plain": [
       "id                                    int64\n",
       "listing_url                          object\n",
       "scrape_id                             int64\n",
       "last_scraped                         object\n",
       "name                                 object\n",
       "summary                              object\n",
       "space                                object\n",
       "description                          object\n",
       "experiences_offered                  object\n",
       "neighborhood_overview                object\n",
       "notes                                object\n",
       "transit                              object\n",
       "thumbnail_url                        object\n",
       "medium_url                           object\n",
       "picture_url                          object\n",
       "xl_picture_url                       object\n",
       "host_id                               int64\n",
       "host_url                             object\n",
       "host_name                            object\n",
       "host_since                           object\n",
       "host_location                        object\n",
       "host_about                           object\n",
       "host_response_time                   object\n",
       "host_response_rate                   object\n",
       "host_acceptance_rate                 object\n",
       "host_is_superhost                    object\n",
       "host_thumbnail_url                   object\n",
       "host_picture_url                     object\n",
       "host_neighbourhood                   object\n",
       "host_listings_count                 float64\n",
       "host_total_listings_count           float64\n",
       "host_verifications                   object\n",
       "host_has_profile_pic                 object\n",
       "host_identity_verified               object\n",
       "street                               object\n",
       "neighbourhood                        object\n",
       "neighbourhood_cleansed               object\n",
       "neighbourhood_group_cleansed         object\n",
       "city                                 object\n",
       "state                                object\n",
       "zipcode                              object\n",
       "market                               object\n",
       "smart_location                       object\n",
       "country_code                         object\n",
       "country                              object\n",
       "latitude                            float64\n",
       "longitude                           float64\n",
       "is_location_exact                    object\n",
       "property_type                        object\n",
       "room_type                            object\n",
       "accommodates                          int64\n",
       "bathrooms                           float64\n",
       "bedrooms                            float64\n",
       "beds                                float64\n",
       "bed_type                             object\n",
       "amenities                            object\n",
       "square_feet                         float64\n",
       "price                                object\n",
       "weekly_price                         object\n",
       "monthly_price                        object\n",
       "security_deposit                     object\n",
       "cleaning_fee                         object\n",
       "guests_included                       int64\n",
       "extra_people                         object\n",
       "minimum_nights                        int64\n",
       "maximum_nights                        int64\n",
       "calendar_updated                     object\n",
       "has_availability                     object\n",
       "availability_30                       int64\n",
       "availability_60                       int64\n",
       "availability_90                       int64\n",
       "availability_365                      int64\n",
       "calendar_last_scraped                object\n",
       "number_of_reviews                     int64\n",
       "first_review                         object\n",
       "last_review                          object\n",
       "review_scores_rating                float64\n",
       "review_scores_accuracy              float64\n",
       "review_scores_cleanliness           float64\n",
       "review_scores_checkin               float64\n",
       "review_scores_communication         float64\n",
       "review_scores_location              float64\n",
       "review_scores_value                 float64\n",
       "requires_license                     object\n",
       "license                             float64\n",
       "jurisdiction_names                   object\n",
       "instant_bookable                     object\n",
       "cancellation_policy                  object\n",
       "require_guest_profile_picture        object\n",
       "require_guest_phone_verification     object\n",
       "calculated_host_listings_count        int64\n",
       "reviews_per_month                   float64\n",
       "dtype: object"
      ]
     },
     "execution_count": 3,
     "metadata": {},
     "output_type": "execute_result"
    }
   ],
   "source": [
    "# Check type of features in the dataframe\n",
    "df_types = df.dtypes\n",
    "df_types"
   ]
  },
  {
   "cell_type": "code",
   "execution_count": 4,
   "metadata": {},
   "outputs": [
    {
     "data": {
      "text/plain": [
       "host_listings_count            float64\n",
       "host_total_listings_count      float64\n",
       "latitude                       float64\n",
       "longitude                      float64\n",
       "bathrooms                      float64\n",
       "bedrooms                       float64\n",
       "beds                           float64\n",
       "square_feet                    float64\n",
       "review_scores_rating           float64\n",
       "review_scores_accuracy         float64\n",
       "review_scores_cleanliness      float64\n",
       "review_scores_checkin          float64\n",
       "review_scores_communication    float64\n",
       "review_scores_location         float64\n",
       "review_scores_value            float64\n",
       "license                        float64\n",
       "reviews_per_month              float64\n",
       "dtype: object"
      ]
     },
     "execution_count": 4,
     "metadata": {},
     "output_type": "execute_result"
    }
   ],
   "source": [
    "# Get columns have float64 value type\n",
    "df_types[df_types == 'float64']"
   ]
  },
  {
   "cell_type": "code",
   "execution_count": 5,
   "metadata": {},
   "outputs": [
    {
     "data": {
      "text/plain": [
       "listing_url                         object\n",
       "last_scraped                        object\n",
       "name                                object\n",
       "summary                             object\n",
       "space                               object\n",
       "description                         object\n",
       "experiences_offered                 object\n",
       "neighborhood_overview               object\n",
       "notes                               object\n",
       "transit                             object\n",
       "thumbnail_url                       object\n",
       "medium_url                          object\n",
       "picture_url                         object\n",
       "xl_picture_url                      object\n",
       "host_url                            object\n",
       "host_name                           object\n",
       "host_since                          object\n",
       "host_location                       object\n",
       "host_about                          object\n",
       "host_response_time                  object\n",
       "host_response_rate                  object\n",
       "host_acceptance_rate                object\n",
       "host_is_superhost                   object\n",
       "host_thumbnail_url                  object\n",
       "host_picture_url                    object\n",
       "host_neighbourhood                  object\n",
       "host_verifications                  object\n",
       "host_has_profile_pic                object\n",
       "host_identity_verified              object\n",
       "street                              object\n",
       "neighbourhood                       object\n",
       "neighbourhood_cleansed              object\n",
       "neighbourhood_group_cleansed        object\n",
       "city                                object\n",
       "state                               object\n",
       "zipcode                             object\n",
       "market                              object\n",
       "smart_location                      object\n",
       "country_code                        object\n",
       "country                             object\n",
       "is_location_exact                   object\n",
       "property_type                       object\n",
       "room_type                           object\n",
       "bed_type                            object\n",
       "amenities                           object\n",
       "price                               object\n",
       "weekly_price                        object\n",
       "monthly_price                       object\n",
       "security_deposit                    object\n",
       "cleaning_fee                        object\n",
       "extra_people                        object\n",
       "calendar_updated                    object\n",
       "has_availability                    object\n",
       "calendar_last_scraped               object\n",
       "first_review                        object\n",
       "last_review                         object\n",
       "requires_license                    object\n",
       "jurisdiction_names                  object\n",
       "instant_bookable                    object\n",
       "cancellation_policy                 object\n",
       "require_guest_profile_picture       object\n",
       "require_guest_phone_verification    object\n",
       "dtype: object"
      ]
     },
     "execution_count": 5,
     "metadata": {},
     "output_type": "execute_result"
    }
   ],
   "source": [
    "# Get columns have object value type\n",
    "df_types[df_types == 'object']"
   ]
  },
  {
   "cell_type": "code",
   "execution_count": 6,
   "metadata": {},
   "outputs": [
    {
     "data": {
      "text/plain": [
       "license                             3818\n",
       "square_feet                         3721\n",
       "monthly_price                       2301\n",
       "security_deposit                    1952\n",
       "weekly_price                        1809\n",
       "notes                               1606\n",
       "neighborhood_overview               1032\n",
       "cleaning_fee                        1030\n",
       "transit                              934\n",
       "host_about                           859\n",
       "host_acceptance_rate                 773\n",
       "review_scores_accuracy               658\n",
       "review_scores_checkin                658\n",
       "review_scores_value                  656\n",
       "review_scores_location               655\n",
       "review_scores_cleanliness            653\n",
       "review_scores_communication          651\n",
       "review_scores_rating                 647\n",
       "last_review                          627\n",
       "first_review                         627\n",
       "reviews_per_month                    627\n",
       "space                                569\n",
       "host_response_rate                   523\n",
       "host_response_time                   523\n",
       "neighbourhood                        416\n",
       "thumbnail_url                        320\n",
       "medium_url                           320\n",
       "xl_picture_url                       320\n",
       "host_neighbourhood                   300\n",
       "summary                              177\n",
       "bathrooms                             16\n",
       "host_location                          8\n",
       "zipcode                                7\n",
       "bedrooms                               6\n",
       "host_name                              2\n",
       "host_listings_count                    2\n",
       "host_since                             2\n",
       "host_is_superhost                      2\n",
       "host_identity_verified                 2\n",
       "host_picture_url                       2\n",
       "host_thumbnail_url                     2\n",
       "host_total_listings_count              2\n",
       "host_has_profile_pic                   2\n",
       "property_type                          1\n",
       "beds                                   1\n",
       "require_guest_profile_picture          0\n",
       "calculated_host_listings_count         0\n",
       "maximum_nights                         0\n",
       "calendar_updated                       0\n",
       "has_availability                       0\n",
       "require_guest_phone_verification       0\n",
       "instant_bookable                       0\n",
       "availability_30                        0\n",
       "availability_60                        0\n",
       "availability_90                        0\n",
       "availability_365                       0\n",
       "calendar_last_scraped                  0\n",
       "number_of_reviews                      0\n",
       "cancellation_policy                    0\n",
       "jurisdiction_names                     0\n",
       "requires_license                       0\n",
       "extra_people                           0\n",
       "minimum_nights                         0\n",
       "id                                     0\n",
       "guests_included                        0\n",
       "price                                  0\n",
       "scrape_id                              0\n",
       "last_scraped                           0\n",
       "name                                   0\n",
       "description                            0\n",
       "experiences_offered                    0\n",
       "picture_url                            0\n",
       "host_id                                0\n",
       "host_url                               0\n",
       "host_verifications                     0\n",
       "street                                 0\n",
       "neighbourhood_cleansed                 0\n",
       "neighbourhood_group_cleansed           0\n",
       "city                                   0\n",
       "state                                  0\n",
       "market                                 0\n",
       "smart_location                         0\n",
       "country_code                           0\n",
       "country                                0\n",
       "latitude                               0\n",
       "listing_url                            0\n",
       "is_location_exact                      0\n",
       "room_type                              0\n",
       "accommodates                           0\n",
       "bed_type                               0\n",
       "amenities                              0\n",
       "longitude                              0\n",
       "dtype: int64"
      ]
     },
     "execution_count": 6,
     "metadata": {},
     "output_type": "execute_result"
    }
   ],
   "source": [
    "# Print total null value of each feature in the dataframe, order from highest to lowest\n",
    "df.isnull().sum().sort_values(ascending=False)"
   ]
  },
  {
   "cell_type": "markdown",
   "metadata": {},
   "source": [
    "# Question 1: What are the most common verification methods from host in the listings ?"
   ]
  },
  {
   "cell_type": "code",
   "execution_count": 7,
   "metadata": {},
   "outputs": [],
   "source": [
    "list_of_host_verifications = []\n",
    "for i in range(len(df)):\n",
    "    list_of_host_verifications.append(ast.literal_eval(df['host_verifications'][i])) # Use ast (Abstract Syntax Tree) library to convert string of list to list"
   ]
  },
  {
   "cell_type": "code",
   "execution_count": 8,
   "metadata": {},
   "outputs": [],
   "source": [
    "# Convert list of lists into one list\n",
    "flat_host_verifications_list = []\n",
    "for sublist in list_of_host_verifications:\n",
    "    if sublist is None: # Remove any sub list is None value\n",
    "        continue\n",
    "    else:\n",
    "        for item in sublist:\n",
    "            flat_host_verifications_list.append(item)"
   ]
  },
  {
   "cell_type": "code",
   "execution_count": 9,
   "metadata": {},
   "outputs": [],
   "source": [
    "# Remove duplicated elements in verifications list to create list of unique verifications\n",
    "flat_host_verifications_list = list(set(flat_host_verifications_list))"
   ]
  },
  {
   "cell_type": "code",
   "execution_count": 10,
   "metadata": {},
   "outputs": [],
   "source": [
    "'''\n",
    "This function I took from HowToBreakIntoTheField library provided for Notebook + Quiz: How To Break Into the Field in Introduction to Datascience \n",
    "in Udacity Data Scientist Course.\n",
    "'''\n",
    "\n",
    "def total_count(df, col1, col2, look_for):\n",
    "    '''\n",
    "    INPUT:\n",
    "    df - the pandas dataframe you want to search\n",
    "    col1 - the column name you want to look through\n",
    "    col2 - the column you want to count values from\n",
    "    look_for - a list of strings you want to search for in each row of df[col]\n",
    "\n",
    "    OUTPUT:\n",
    "    new_df - a dataframe of each look_for with the count of how often it shows up\n",
    "    '''\n",
    "    new_df = defaultdict(int)\n",
    "    for val in look_for:\n",
    "        for idx in range(df.shape[0]):\n",
    "            if val in df[col1][idx]:\n",
    "                new_df[val] += int(df[col2][idx])\n",
    "    new_df = pd.DataFrame(pd.Series(new_df)).reset_index()\n",
    "    new_df.columns = [col1, col2]\n",
    "    new_df.sort_values('count', ascending=False, inplace=True)\n",
    "    return new_df"
   ]
  },
  {
   "cell_type": "code",
   "execution_count": 11,
   "metadata": {},
   "outputs": [],
   "source": [
    "'''\n",
    "This function I took from Notebook + Quiz: How To Break Into the Field in Introduction to Datascience in Udacity Data Scientist Course and I have\n",
    "modified it a little bit to properly use in this project\n",
    "'''\n",
    "\n",
    "def clean_and_plot(df, title='Top 10 Most Common Verification Methods from Host in The Dataset', plot=True):\n",
    "    '''\n",
    "    INPUT \n",
    "        df - a dataframe holding the host_verifications column\n",
    "        title - string the title of your plot\n",
    "        axis - axis object\n",
    "        plot - bool providing whether or not you want a plot back\n",
    "        \n",
    "    OUTPUT\n",
    "        verifications_df - a dataframe with the count of how many individuals\n",
    "        Displays a plot of pretty things related to the host_verifications column.\n",
    "    '''\n",
    "    verifications = df['host_verifications'].value_counts().reset_index()\n",
    "    verifications.rename(columns={'index': 'host_verifications', 'host_verifications': 'count'}, inplace=True)\n",
    "    verifications_df = total_count(verifications, 'host_verifications', 'count', flat_host_verifications_list)\n",
    "\n",
    "    verifications_df.set_index('host_verifications', inplace=True)\n",
    "    if plot:\n",
    "        (verifications_df/verifications_df.sum()).plot(kind='bar', legend=None, figsize=(10, 10));\n",
    "        plt.title(title);\n",
    "        plt.ylabel('The percent of verification methods in the listings')\n",
    "        plt.show()\n",
    "    props_verifications_df = verifications_df/verifications_df.sum()\n",
    "    return props_verifications_df.reset_index()"
   ]
  },
  {
   "cell_type": "code",
   "execution_count": 12,
   "metadata": {},
   "outputs": [
    {
     "data": {
      "image/png": "[encoded data removed]",
      "text/plain": [
       "<Figure size 720x720 with 1 Axes>"
      ]
     },
     "metadata": {
      "needs_background": "light"
     },
     "output_type": "display_data"
    },
    {
     "data": {
      "text/html": [
       "<div>\n",
       "<style scoped>\n",
       "    .dataframe tbody tr th:only-of-type {\n",
       "        vertical-align: middle;\n",
       "    }\n",
       "\n",
       "    .dataframe tbody tr th {\n",
       "        vertical-align: top;\n",
       "    }\n",
       "\n",
       "    .dataframe thead th {\n",
       "        text-align: right;\n",
       "    }\n",
       "</style>\n",
       "<table border=\"1\" class=\"dataframe\">\n",
       "  <thead>\n",
       "    <tr style=\"text-align: right;\">\n",
       "      <th></th>\n",
       "      <th>host_verifications</th>\n",
       "      <th>count</th>\n",
       "    </tr>\n",
       "  </thead>\n",
       "  <tbody>\n",
       "    <tr>\n",
       "      <th>0</th>\n",
       "      <td>phone</td>\n",
       "      <td>0.212703</td>\n",
       "    </tr>\n",
       "    <tr>\n",
       "      <th>1</th>\n",
       "      <td>email</td>\n",
       "      <td>0.207934</td>\n",
       "    </tr>\n",
       "    <tr>\n",
       "      <th>2</th>\n",
       "      <td>reviews</td>\n",
       "      <td>0.199125</td>\n",
       "    </tr>\n",
       "    <tr>\n",
       "      <th>3</th>\n",
       "      <td>facebook</td>\n",
       "      <td>0.108175</td>\n",
       "    </tr>\n",
       "    <tr>\n",
       "      <th>4</th>\n",
       "      <td>kba</td>\n",
       "      <td>0.101891</td>\n",
       "    </tr>\n",
       "    <tr>\n",
       "      <th>5</th>\n",
       "      <td>jumio</td>\n",
       "      <td>0.072322</td>\n",
       "    </tr>\n",
       "    <tr>\n",
       "      <th>6</th>\n",
       "      <td>linkedin</td>\n",
       "      <td>0.049992</td>\n",
       "    </tr>\n",
       "    <tr>\n",
       "      <th>7</th>\n",
       "      <td>google</td>\n",
       "      <td>0.041800</td>\n",
       "    </tr>\n",
       "    <tr>\n",
       "      <th>8</th>\n",
       "      <td>manual_offline</td>\n",
       "      <td>0.002918</td>\n",
       "    </tr>\n",
       "    <tr>\n",
       "      <th>9</th>\n",
       "      <td>amex</td>\n",
       "      <td>0.001403</td>\n",
       "    </tr>\n",
       "    <tr>\n",
       "      <th>10</th>\n",
       "      <td>manual_online</td>\n",
       "      <td>0.000729</td>\n",
       "    </tr>\n",
       "    <tr>\n",
       "      <th>11</th>\n",
       "      <td>sent_id</td>\n",
       "      <td>0.000505</td>\n",
       "    </tr>\n",
       "    <tr>\n",
       "      <th>12</th>\n",
       "      <td>weibo</td>\n",
       "      <td>0.000281</td>\n",
       "    </tr>\n",
       "    <tr>\n",
       "      <th>13</th>\n",
       "      <td>photographer</td>\n",
       "      <td>0.000224</td>\n",
       "    </tr>\n",
       "  </tbody>\n",
       "</table>\n",
       "</div>"
      ],
      "text/plain": [
       "   host_verifications     count\n",
       "0               phone  0.212703\n",
       "1               email  0.207934\n",
       "2             reviews  0.199125\n",
       "3            facebook  0.108175\n",
       "4                 kba  0.101891\n",
       "5               jumio  0.072322\n",
       "6            linkedin  0.049992\n",
       "7              google  0.041800\n",
       "8      manual_offline  0.002918\n",
       "9                amex  0.001403\n",
       "10      manual_online  0.000729\n",
       "11            sent_id  0.000505\n",
       "12              weibo  0.000281\n",
       "13       photographer  0.000224"
      ]
     },
     "execution_count": 12,
     "metadata": {},
     "output_type": "execute_result"
    }
   ],
   "source": [
    "clean_and_plot(df)"
   ]
  },
  {
   "cell_type": "markdown",
   "metadata": {},
   "source": [
    "In the chart and table above we can see that the top 3 common verification methods in Seattle listings are:\n",
    "- Phone:    21.27%\n",
    "- Email:    20.79%\n",
    "- Reviews:  19.91%"
   ]
  },
  {
   "cell_type": "markdown",
   "metadata": {},
   "source": [
    "# Question 2: - How different types of features attract the guests for renting a homestay ?"
   ]
  },
  {
   "cell_type": "code",
   "execution_count": 13,
   "metadata": {},
   "outputs": [],
   "source": [
    "# Function to remove the following characters from amenities values: {, }, \"\n",
    "def process_amenities(txt):\n",
    "    txt, n = re.subn('[{|}|\"]', '', txt)\n",
    "    return txt"
   ]
  },
  {
   "cell_type": "code",
   "execution_count": 14,
   "metadata": {},
   "outputs": [],
   "source": [
    "list_of_amenities = list(df['amenities'].apply(lambda x: process_amenities(x).split(',')))\n",
    "flat_amenities_list = []\n",
    "for sublist in list_of_amenities:\n",
    "    if sublist is None:\n",
    "        continue\n",
    "    else:\n",
    "        for item in sublist:\n",
    "            flat_amenities_list.append(item)\n",
    "\t\t\t\n",
    "list_of_amenities_unique = [amenity for amenity in set(flat_amenities_list) if amenity]"
   ]
  },
  {
   "cell_type": "code",
   "execution_count": 15,
   "metadata": {},
   "outputs": [
    {
     "data": {
      "text/plain": [
       "['property_type', 'room_type', 'bed_type']"
      ]
     },
     "execution_count": 15,
     "metadata": {},
     "output_type": "execute_result"
    }
   ],
   "source": [
    "# Get features have the word \"type\" in their name \n",
    "feature_type_list = []\n",
    "for feature in df.columns:\n",
    "    if 'type' in feature:\n",
    "        feature_type_list.append(feature)\n",
    "        \n",
    "feature_type_list"
   ]
  },
  {
   "cell_type": "code",
   "execution_count": 16,
   "metadata": {},
   "outputs": [],
   "source": [
    "'''\n",
    "In this question, we will check how attractive of features to customers based on the availability column.\n",
    "Which means the more availability of a feature, the less its attract customers.\n",
    "'''\n",
    "df['popularity_30'] = 1 - (df['availability_30']/30) # Create popularity_30 column based on availability_30 column"
   ]
  },
  {
   "cell_type": "code",
   "execution_count": 17,
   "metadata": {},
   "outputs": [
    {
     "data": {
      "text/plain": [
       "property_type\n",
       "Tent               0.800000\n",
       "Dorm               0.666667\n",
       "Treehouse          0.666667\n",
       "Chalet             0.500000\n",
       "Cabin              0.469841\n",
       "Apartment          0.456011\n",
       "Condominium        0.454579\n",
       "Loft               0.435000\n",
       "House              0.432583\n",
       "Townhouse          0.413559\n",
       "Camper/RV          0.410256\n",
       "Other              0.301515\n",
       "Bed & Breakfast    0.257658\n",
       "Boat               0.250000\n",
       "Bungalow           0.215385\n",
       "Yurt               0.066667\n",
       "Name: popularity_30, dtype: float64"
      ]
     },
     "execution_count": 17,
     "metadata": {},
     "output_type": "execute_result"
    }
   ],
   "source": [
    "property_type_availability = df.groupby(['property_type']).mean()['popularity_30'].sort_values(ascending=False)\n",
    "property_type_availability"
   ]
  },
  {
   "cell_type": "code",
   "execution_count": 18,
   "metadata": {},
   "outputs": [
    {
     "data": {
      "image/png": "[encoded data removed]",
      "text/plain": [
       "<Figure size 720x720 with 1 Axes>"
      ]
     },
     "metadata": {
      "needs_background": "light"
     },
     "output_type": "display_data"
    }
   ],
   "source": [
    "property_type_availability.plot(kind='bar', legend=None, figsize=(10, 10))\n",
    "plt.title('The Popularity of property_type for Next 30 Days');\n",
    "plt.show()"
   ]
  },
  {
   "cell_type": "markdown",
   "metadata": {},
   "source": [
    "Looking at the above chart, we can see that the homestay attracts more guests if it has tents, a dormitory or a treehouse."
   ]
  },
  {
   "cell_type": "code",
   "execution_count": 19,
   "metadata": {},
   "outputs": [
    {
     "data": {
      "text/plain": [
       "room_type\n",
       "Entire home/apt    0.483353\n",
       "Private room       0.362759\n",
       "Shared room        0.279202\n",
       "Name: popularity_30, dtype: float64"
      ]
     },
     "execution_count": 19,
     "metadata": {},
     "output_type": "execute_result"
    }
   ],
   "source": [
    "room_type_availability = df.groupby(['room_type']).mean()['popularity_30'].sort_values(ascending=False)\n",
    "room_type_availability"
   ]
  },
  {
   "cell_type": "code",
   "execution_count": 20,
   "metadata": {},
   "outputs": [
    {
     "data": {
      "image/png": "[encoded data removed]",
      "text/plain": [
       "<Figure size 720x720 with 1 Axes>"
      ]
     },
     "metadata": {
      "needs_background": "light"
     },
     "output_type": "display_data"
    }
   ],
   "source": [
    "room_type_availability.plot(kind='bar', legend=None, figsize=(10, 10))\n",
    "plt.title('The Popularity of room_type for Next 30 Days');\n",
    "plt.show()"
   ]
  },
  {
   "cell_type": "markdown",
   "metadata": {},
   "source": [
    "Looking at the chart above, we can see that an entire home or an apartment homestay is more popular than a private room or a shared room by approximately 10%."
   ]
  },
  {
   "cell_type": "code",
   "execution_count": 21,
   "metadata": {},
   "outputs": [
    {
     "data": {
      "text/plain": [
       "bed_type\n",
       "Couch            0.579487\n",
       "Futon            0.451351\n",
       "Real Bed         0.441564\n",
       "Airbed           0.419753\n",
       "Pull-out Sofa    0.310638\n",
       "Name: popularity_30, dtype: float64"
      ]
     },
     "execution_count": 21,
     "metadata": {},
     "output_type": "execute_result"
    }
   ],
   "source": [
    "bed_type_availability = df.groupby(['bed_type']).mean()['popularity_30'].sort_values(ascending=False)\n",
    "bed_type_availability"
   ]
  },
  {
   "cell_type": "code",
   "execution_count": 22,
   "metadata": {},
   "outputs": [
    {
     "data": {
      "image/png": "[encoded data removed]",
      "text/plain": [
       "<Figure size 720x720 with 1 Axes>"
      ]
     },
     "metadata": {
      "needs_background": "light"
     },
     "output_type": "display_data"
    }
   ],
   "source": [
    "bed_type_availability.plot(kind='bar', legend=None, figsize=(10, 10))\n",
    "plt.title('The Popularity of bed_type for Next 30 Days');\n",
    "plt.show()"
   ]
  },
  {
   "cell_type": "markdown",
   "metadata": {},
   "source": [
    "Looking at the above chart, we can see that if the homestay has a couch, a futon or a real bed, it will attract more guests than the others."
   ]
  },
  {
   "cell_type": "markdown",
   "metadata": {},
   "source": [
    "In summary, an attractive homestay should be an entire home/apartment and it should also has a couch or at least a real bed, tents, a treehouse or a dormitory."
   ]
  },
  {
   "cell_type": "markdown",
   "metadata": {},
   "source": [
    "# Question 3: What are the most influential features affect the price of homestays in Seattle ?"
   ]
  },
  {
   "cell_type": "code",
   "execution_count": 23,
   "metadata": {},
   "outputs": [],
   "source": [
    "# This function is used to elimate these symbols from the price values: \"$\", \",\"\n",
    "def process_price(txt):\n",
    "    txt, n = re.subn('[$|,]', '', txt)\n",
    "    return txt"
   ]
  },
  {
   "cell_type": "code",
   "execution_count": 24,
   "metadata": {},
   "outputs": [
    {
     "data": {
      "text/plain": [
       "(3818, 8)"
      ]
     },
     "execution_count": 24,
     "metadata": {},
     "output_type": "execute_result"
    }
   ],
   "source": [
    "# Create new dataframe by choosing categorical columns of the dataframe that we want to use as features\n",
    "df_new = df[['property_type', 'room_type', 'bed_type', 'accommodates', 'bathrooms', 'bedrooms', 'beds', 'price']]\n",
    "df_new.shape"
   ]
  },
  {
   "cell_type": "code",
   "execution_count": 25,
   "metadata": {},
   "outputs": [
    {
     "name": "stderr",
     "output_type": "stream",
     "text": [
      "c:\\Users\\neonx\\python_venv\\udacity\\lib\\site-packages\\ipykernel_launcher.py:1: SettingWithCopyWarning: \n",
      "A value is trying to be set on a copy of a slice from a DataFrame.\n",
      "Try using .loc[row_indexer,col_indexer] = value instead\n",
      "\n",
      "See the caveats in the documentation: https://pandas.pydata.org/pandas-docs/stable/user_guide/indexing.html#returning-a-view-versus-a-copy\n",
      "  \"\"\"Entry point for launching an IPython kernel.\n",
      "c:\\Users\\neonx\\python_venv\\udacity\\lib\\site-packages\\ipykernel_launcher.py:2: SettingWithCopyWarning: \n",
      "A value is trying to be set on a copy of a slice from a DataFrame.\n",
      "Try using .loc[row_indexer,col_indexer] = value instead\n",
      "\n",
      "See the caveats in the documentation: https://pandas.pydata.org/pandas-docs/stable/user_guide/indexing.html#returning-a-view-versus-a-copy\n",
      "  \n"
     ]
    }
   ],
   "source": [
    "df_new['price'] = df_new['price'].apply(lambda x: process_price(x))\n",
    "df_new['price'] = df_new['price'].astype(float)"
   ]
  },
  {
   "cell_type": "code",
   "execution_count": 26,
   "metadata": {},
   "outputs": [
    {
     "data": {
      "text/plain": [
       "['property_type', 'room_type', 'bed_type']"
      ]
     },
     "execution_count": 26,
     "metadata": {},
     "output_type": "execute_result"
    }
   ],
   "source": [
    "cat_columns = list(df_new.select_dtypes(include=['object']).columns)\n",
    "cat_columns"
   ]
  },
  {
   "cell_type": "code",
   "execution_count": 27,
   "metadata": {},
   "outputs": [],
   "source": [
    "'''\n",
    "This function I took from Notebook + Quiz: Categorical Variables in Introduction to Datascience in Udacity Data Scientist Course and I have\n",
    "modified it a little bit to properly use in this project\n",
    "'''\n",
    "\n",
    "def create_dummy_df(df, cat_cols, dummy_na):\n",
    "    '''\n",
    "    INPUT:\n",
    "    df - pandas dataframe with categorical variables you want to dummy\n",
    "    cat_cols - list of strings that are associated with names of the categorical columns\n",
    "    dummy_na - Bool holding whether you want to dummy NA vals of categorical columns or not\n",
    "    \n",
    "    OUTPUT:\n",
    "    df - a new dataframe that has the following characteristics:\n",
    "            1. contains all columns that were not specified as categorical\n",
    "            2. removes all the original columns in cat_cols\n",
    "            3. dummy columns for each of the categorical columns in cat_cols\n",
    "            4. if dummy_na is True - it also contains dummy columns for the NaN values\n",
    "            5. Use a prefix of the column name with an underscore (_) for separating \n",
    "    '''\n",
    "    for col in cat_cols:\n",
    "        try:\n",
    "            # for each cat add dummy var, drop original column\n",
    "            df = pd.concat([df.drop(col, axis=1), pd.get_dummies(df[col], prefix=col, prefix_sep='_', drop_first=True, dummy_na=dummy_na)], axis=1)\n",
    "        except:\n",
    "            continue\n",
    "    return df"
   ]
  },
  {
   "cell_type": "code",
   "execution_count": 28,
   "metadata": {},
   "outputs": [],
   "source": [
    "'''\n",
    "This function I took from Notebook + Quiz: Categorical Variables in Introduction to Datascience in Udacity Data Scientist Course and I have\n",
    "modified it a little bit to properly use in this project\n",
    "'''\n",
    "\n",
    "def clean_fit_linear_mod(df, response_col, cat_cols, dummy_na, test_size=.3, rand_state=42):\n",
    "    '''\n",
    "    INPUT:\n",
    "    df - a dataframe holding all the variables of interest\n",
    "    response_col - a string holding the name of the column \n",
    "    cat_cols - list of strings that are associated with names of the categorical columns\n",
    "    dummy_na - Bool holding whether you want to dummy NA vals of categorical columns or not\n",
    "    test_size - a float between [0,1] about what proportion of data should be in the test dataset\n",
    "    rand_state - an int that is provided as the random state for splitting the data into training and test \n",
    "    \n",
    "    OUTPUT:\n",
    "    test_score - float - r2 score on the test data\n",
    "    train_score - float - r2 score on the test data\n",
    "    lm_model - model object from sklearn\n",
    "    X_train, X_test, y_train, y_test - output from sklearn train test split used for optimal model\n",
    "    \n",
    "    Your function should:\n",
    "    1. Drop the rows with missing response values\n",
    "    2. Drop columns with NaN for all the values\n",
    "    3. Use create_dummy_df to dummy categorical columns\n",
    "    4. Fill the mean of the column for any missing values \n",
    "    5. Split your data into an X matrix and a response vector y\n",
    "    6. Create training and test sets of data\n",
    "    7. Instantiate a LinearRegression model with normalized data\n",
    "    8. Fit your model to the training data\n",
    "    9. Predict the response for the training data and the test data\n",
    "    10. Obtain an rsquared value for both the training and test data\n",
    "    '''\n",
    "    #Drop the rows with missing response values\n",
    "    df  = df.dropna(subset=[response_col], axis=0)\n",
    "\n",
    "    #Drop columns with all NaN values\n",
    "    df = df.dropna(how='all', axis=1)\n",
    "\n",
    "    #Dummy categorical variables\n",
    "    df = create_dummy_df(df, cat_cols, dummy_na)\n",
    "\n",
    "    # Mean function\n",
    "    fill_mean = lambda col: col.fillna(col.mean())\n",
    "    # Fill the mean\n",
    "    df = df.apply(fill_mean, axis=0)\n",
    "\n",
    "    #Split into explanatory and response variables\n",
    "    X = df.drop(response_col, axis=1)\n",
    "    y = df[response_col]\n",
    "\n",
    "    #Split into train and test\n",
    "    X_train, X_test, y_train, y_test = train_test_split(X, y, test_size=test_size, random_state=rand_state)\n",
    "\n",
    "    lm_model = LinearRegression(normalize=True) # Instantiate\n",
    "    lm_model.fit(X_train, y_train) #Fit\n",
    "\n",
    "    #Predict using your model\n",
    "    y_test_preds = lm_model.predict(X_test)\n",
    "    y_train_preds = lm_model.predict(X_train)\n",
    "\n",
    "    #Score using your model\n",
    "    test_score = r2_score(y_test, y_test_preds)\n",
    "    train_score = r2_score(y_train, y_train_preds)\n",
    "\n",
    "    return test_score, train_score, lm_model, X_train, X_test, y_train, y_test"
   ]
  },
  {
   "cell_type": "code",
   "execution_count": 29,
   "metadata": {},
   "outputs": [
    {
     "name": "stderr",
     "output_type": "stream",
     "text": [
      "c:\\Users\\neonx\\python_venv\\udacity\\lib\\site-packages\\sklearn\\linear_model\\_base.py:145: FutureWarning: 'normalize' was deprecated in version 1.0 and will be removed in 1.2.\n",
      "If you wish to scale the data, use Pipeline with a StandardScaler in a preprocessing stage. To reproduce the previous behavior:\n",
      "\n",
      "from sklearn.pipeline import make_pipeline\n",
      "\n",
      "model = make_pipeline(StandardScaler(with_mean=False), LinearRegression())\n",
      "\n",
      "If you wish to pass a sample_weight parameter, you need to pass it as a fit parameter to each step of the pipeline as follows:\n",
      "\n",
      "kwargs = {s[0] + '__sample_weight': sample_weight for s in model.steps}\n",
      "model.fit(X, y, **kwargs)\n",
      "\n",
      "\n",
      "  FutureWarning,\n"
     ]
    }
   ],
   "source": [
    "test_score, train_score, lm_model, X_train, X_test, y_train, y_test = clean_fit_linear_mod(df_new, 'price', cat_columns, dummy_na=False)"
   ]
  },
  {
   "cell_type": "code",
   "execution_count": 30,
   "metadata": {},
   "outputs": [
    {
     "name": "stdout",
     "output_type": "stream",
     "text": [
      "The rsquared on the training data was 0.5269091529139549.  The rsquared on the test data was 0.5591501319950756.\n"
     ]
    }
   ],
   "source": [
    "print(\"The rsquared on the training data was {}.  The rsquared on the test data was {}.\".format(train_score, test_score))"
   ]
  },
  {
   "cell_type": "code",
   "execution_count": 31,
   "metadata": {},
   "outputs": [],
   "source": [
    "'''\n",
    "This function I took from Notebook + Quiz: Putting It All Together in Introduction to Datascience in Udacity Data Scientist Course and I have\n",
    "modified it a little bit to properly use in this project\n",
    "'''\n",
    "\n",
    "def coef_weights(coefficients, X_train):\n",
    "    '''\n",
    "    INPUT:\n",
    "    coefficients - the coefficients of the linear model \n",
    "    X_train - the training data, so the column names can be used\n",
    "    OUTPUT:\n",
    "    coefs_df - a dataframe holding the coefficient, estimate, and abs(estimate)\n",
    "    \n",
    "    Provides a dataframe that can be used to understand the most influential coefficients\n",
    "    in a linear model by providing the coefficient estimates along with the name of the \n",
    "    variable attached to the coefficient.\n",
    "    '''\n",
    "    coefs_df = pd.DataFrame()\n",
    "    coefs_df['est_int'] = X_train.columns\n",
    "    coefs_df['coefs'] = lm_model.coef_\n",
    "    coefs_df['abs_coefs'] = np.abs(lm_model.coef_)\n",
    "    coefs_df = coefs_df.sort_values('abs_coefs', ascending=False)\n",
    "    return coefs_df"
   ]
  },
  {
   "cell_type": "code",
   "execution_count": 32,
   "metadata": {},
   "outputs": [
    {
     "data": {
      "text/html": [
       "<div>\n",
       "<style scoped>\n",
       "    .dataframe tbody tr th:only-of-type {\n",
       "        vertical-align: middle;\n",
       "    }\n",
       "\n",
       "    .dataframe tbody tr th {\n",
       "        vertical-align: top;\n",
       "    }\n",
       "\n",
       "    .dataframe thead th {\n",
       "        text-align: right;\n",
       "    }\n",
       "</style>\n",
       "<table border=\"1\" class=\"dataframe\">\n",
       "  <thead>\n",
       "    <tr style=\"text-align: right;\">\n",
       "      <th></th>\n",
       "      <th>est_int</th>\n",
       "      <th>coefs</th>\n",
       "      <th>abs_coefs</th>\n",
       "    </tr>\n",
       "  </thead>\n",
       "  <tbody>\n",
       "    <tr>\n",
       "      <th>0</th>\n",
       "      <td>property_type_Boat</td>\n",
       "      <td>135.991849</td>\n",
       "      <td>135.991849</td>\n",
       "    </tr>\n",
       "    <tr>\n",
       "      <th>1</th>\n",
       "      <td>room_type_Shared room</td>\n",
       "      <td>-62.365397</td>\n",
       "      <td>62.365397</td>\n",
       "    </tr>\n",
       "    <tr>\n",
       "      <th>2</th>\n",
       "      <td>property_type_Camper/RV</td>\n",
       "      <td>58.727952</td>\n",
       "      <td>58.727952</td>\n",
       "    </tr>\n",
       "    <tr>\n",
       "      <th>3</th>\n",
       "      <td>property_type_Dorm</td>\n",
       "      <td>-42.367606</td>\n",
       "      <td>42.367606</td>\n",
       "    </tr>\n",
       "    <tr>\n",
       "      <th>4</th>\n",
       "      <td>property_type_Tent</td>\n",
       "      <td>-38.403647</td>\n",
       "      <td>38.403647</td>\n",
       "    </tr>\n",
       "    <tr>\n",
       "      <th>5</th>\n",
       "      <td>room_type_Private room</td>\n",
       "      <td>-36.983398</td>\n",
       "      <td>36.983398</td>\n",
       "    </tr>\n",
       "    <tr>\n",
       "      <th>6</th>\n",
       "      <td>bathrooms</td>\n",
       "      <td>33.289887</td>\n",
       "      <td>33.289887</td>\n",
       "    </tr>\n",
       "    <tr>\n",
       "      <th>7</th>\n",
       "      <td>bedrooms</td>\n",
       "      <td>29.028951</td>\n",
       "      <td>29.028951</td>\n",
       "    </tr>\n",
       "    <tr>\n",
       "      <th>8</th>\n",
       "      <td>property_type_Treehouse</td>\n",
       "      <td>24.357420</td>\n",
       "      <td>24.357420</td>\n",
       "    </tr>\n",
       "    <tr>\n",
       "      <th>9</th>\n",
       "      <td>property_type_Loft</td>\n",
       "      <td>21.634089</td>\n",
       "      <td>21.634089</td>\n",
       "    </tr>\n",
       "    <tr>\n",
       "      <th>10</th>\n",
       "      <td>property_type_Condominium</td>\n",
       "      <td>19.263422</td>\n",
       "      <td>19.263422</td>\n",
       "    </tr>\n",
       "    <tr>\n",
       "      <th>11</th>\n",
       "      <td>property_type_Chalet</td>\n",
       "      <td>-13.426381</td>\n",
       "      <td>13.426381</td>\n",
       "    </tr>\n",
       "    <tr>\n",
       "      <th>12</th>\n",
       "      <td>property_type_House</td>\n",
       "      <td>-11.965348</td>\n",
       "      <td>11.965348</td>\n",
       "    </tr>\n",
       "    <tr>\n",
       "      <th>13</th>\n",
       "      <td>accommodates</td>\n",
       "      <td>10.803601</td>\n",
       "      <td>10.803601</td>\n",
       "    </tr>\n",
       "    <tr>\n",
       "      <th>14</th>\n",
       "      <td>property_type_Townhouse</td>\n",
       "      <td>-10.184405</td>\n",
       "      <td>10.184405</td>\n",
       "    </tr>\n",
       "    <tr>\n",
       "      <th>15</th>\n",
       "      <td>property_type_Cabin</td>\n",
       "      <td>-9.508587</td>\n",
       "      <td>9.508587</td>\n",
       "    </tr>\n",
       "    <tr>\n",
       "      <th>16</th>\n",
       "      <td>bed_type_Futon</td>\n",
       "      <td>-7.164489</td>\n",
       "      <td>7.164489</td>\n",
       "    </tr>\n",
       "    <tr>\n",
       "      <th>17</th>\n",
       "      <td>bed_type_Pull-out Sofa</td>\n",
       "      <td>-6.530247</td>\n",
       "      <td>6.530247</td>\n",
       "    </tr>\n",
       "    <tr>\n",
       "      <th>18</th>\n",
       "      <td>property_type_Other</td>\n",
       "      <td>-5.868967</td>\n",
       "      <td>5.868967</td>\n",
       "    </tr>\n",
       "    <tr>\n",
       "      <th>19</th>\n",
       "      <td>property_type_Yurt</td>\n",
       "      <td>4.131713</td>\n",
       "      <td>4.131713</td>\n",
       "    </tr>\n",
       "  </tbody>\n",
       "</table>\n",
       "</div>"
      ],
      "text/plain": [
       "                      est_int       coefs   abs_coefs\n",
       "0          property_type_Boat  135.991849  135.991849\n",
       "1       room_type_Shared room  -62.365397   62.365397\n",
       "2     property_type_Camper/RV   58.727952   58.727952\n",
       "3          property_type_Dorm  -42.367606   42.367606\n",
       "4          property_type_Tent  -38.403647   38.403647\n",
       "5      room_type_Private room  -36.983398   36.983398\n",
       "6                   bathrooms   33.289887   33.289887\n",
       "7                    bedrooms   29.028951   29.028951\n",
       "8     property_type_Treehouse   24.357420   24.357420\n",
       "9          property_type_Loft   21.634089   21.634089\n",
       "10  property_type_Condominium   19.263422   19.263422\n",
       "11       property_type_Chalet  -13.426381   13.426381\n",
       "12        property_type_House  -11.965348   11.965348\n",
       "13               accommodates   10.803601   10.803601\n",
       "14    property_type_Townhouse  -10.184405   10.184405\n",
       "15        property_type_Cabin   -9.508587    9.508587\n",
       "16             bed_type_Futon   -7.164489    7.164489\n",
       "17     bed_type_Pull-out Sofa   -6.530247    6.530247\n",
       "18        property_type_Other   -5.868967    5.868967\n",
       "19         property_type_Yurt    4.131713    4.131713"
      ]
     },
     "execution_count": 32,
     "metadata": {},
     "output_type": "execute_result"
    }
   ],
   "source": [
    "coef_df = coef_weights(lm_model.coef_, X_train)\n",
    "coef_df.reset_index(drop=True, inplace=True)\n",
    "coef_df.head(20)"
   ]
  },
  {
   "cell_type": "markdown",
   "metadata": {},
   "source": [
    "Looking at the table above, we can see that:\n",
    "\n",
    "- Boat property appears to be the top indicator that affects the price of a homestay.\n",
    "\n",
    "- The number of bathrooms and bedrooms also has a reasonable effect on the price of a homestay.\n",
    "\n",
    "- People unlikely want to share a room with others when renting a homestay and this would affect the price of a homestay badly."
   ]
  },
  {
   "cell_type": "code",
   "execution_count": null,
   "metadata": {},
   "outputs": [],
   "source": []
  }
 ],
 "metadata": {
  "interpreter": {
   "hash": "a8bbfe363a174139f266f6a48831d2194d4666d4cbc9b74b0149dc3b88d07607"
  },
  "kernelspec": {
   "display_name": "Python 3.7.8 ('udacity')",
   "language": "python",
   "name": "python3"
  },
  "language_info": {
   "codemirror_mode": {
    "name": "ipython",
    "version": 3
   },
   "file_extension": ".py",
   "mimetype": "text/x-python",
   "name": "python",
   "nbconvert_exporter": "python",
   "pygments_lexer": "ipython3",
   "version": "3.7.8"
  },
  "orig_nbformat": 4
 },
 "nbformat": 4,
 "nbformat_minor": 2
}
